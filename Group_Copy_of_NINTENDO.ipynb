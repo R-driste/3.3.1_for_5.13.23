{
  "nbformat": 4,
  "nbformat_minor": 0,
  "metadata": {
    "colab": {
      "provenance": [],
      "authorship_tag": "ABX9TyNf2nO7f3b7vtnxkPJHichU",
      "include_colab_link": true
    },
    "kernelspec": {
      "name": "python3",
      "display_name": "Python 3"
    },
    "language_info": {
      "name": "python"
    }
  },
  "cells": [
    {
      "cell_type": "markdown",
      "metadata": {
        "id": "view-in-github",
        "colab_type": "text"
      },
      "source": [
        "<a href=\"https://colab.research.google.com/github/R-driste/3.3.1_for_5.13.23/blob/main/Group_Copy_of_NINTENDO.ipynb\" target=\"_parent\"><img src=\"https://colab.research.google.com/assets/colab-badge.svg\" alt=\"Open In Colab\"/></a>"
      ]
    },
    {
      "cell_type": "markdown",
      "source": [
        "# **Setup File and Initial Df**"
      ],
      "metadata": {
        "id": "3PFZgHUh0Yi7"
      }
    },
    {
      "cell_type": "code",
      "execution_count": null,
      "metadata": {
        "colab": {
          "base_uri": "https://localhost:8080/",
          "height": 659
        },
        "id": "HV9NnHb8iBtx",
        "outputId": "e8606237-3eee-4372-8ac2-c64cd68244c9"
      },
      "outputs": [
        {
          "output_type": "execute_result",
          "data": {
            "text/plain": [
              "      Meta Score                                            Title Platform  \\\n",
              "2           66.0              Fitness Boxing 2: Rhythm & Exercise   Switch   \n",
              "3           63.0  Fire Emblem: Shadow Dragon & the Blade of Light   Switch   \n",
              "4           79.0                 Hyrule Warriors: Age of Calamity   Switch   \n",
              "7           85.0                                  Pikmin 3 Deluxe   Switch   \n",
              "8           79.0                                    Part Time UFO   Switch   \n",
              "...          ...                                              ...      ...   \n",
              "998         90.0                                      Blast Corps      N64   \n",
              "999         83.0                                    Mario Kart 64      N64   \n",
              "1000        92.0                                     Wave Race 64      N64   \n",
              "1001        80.0                                    Pilotwings 64      N64   \n",
              "1002        94.0                                   Super Mario 64      N64   \n",
              "\n",
              "              Date  User Score  \\\n",
              "2      Dec 4, 2020         6.2   \n",
              "3      Dec 4, 2020         7.6   \n",
              "4     Nov 20, 2020         8.1   \n",
              "7     Oct 30, 2020         8.4   \n",
              "8     Oct 28, 2020         7.3   \n",
              "...            ...         ...   \n",
              "998   Feb 28, 1997         8.4   \n",
              "999   Feb 10, 1997         8.6   \n",
              "1000   Nov 1, 1996         8.3   \n",
              "1001  Sep 29, 1996         8.0   \n",
              "1002  Sep 26, 1996         9.2   \n",
              "\n",
              "                                                   Link Esrb Rating  \\\n",
              "2         /game/switch/fitness-boxing-2-rhythm-exercise           E   \n",
              "3     /game/switch/fire-emblem-shadow-dragon-the-bla...           E   \n",
              "4          /game/switch/hyrule-warriors-age-of-calamity           T   \n",
              "7                          /game/switch/pikmin-3-deluxe        E10+   \n",
              "8                            /game/switch/part-time-ufo        E10+   \n",
              "...                                                 ...         ...   \n",
              "998                       /game/nintendo-64/blast-corps           E   \n",
              "999                     /game/nintendo-64/mario-kart-64           E   \n",
              "1000                     /game/nintendo-64/wave-race-64           E   \n",
              "1001                    /game/nintendo-64/pilotwings-64           E   \n",
              "1002                   /game/nintendo-64/super-mario-64           E   \n",
              "\n",
              "                                  Developers  \\\n",
              "2     ['Nintendo', ' Imagineer Co.', 'Ltd.']   \n",
              "3                    ['Intelligent Systems']   \n",
              "4       ['Omega Force', ' Koei Tecmo Games']   \n",
              "7                  ['Eighting', ' Nintendo']   \n",
              "8                               ['HAL Labs']   \n",
              "...                                      ...   \n",
              "998                            ['Rare Ltd.']   \n",
              "999                             ['Nintendo']   \n",
              "1000                            ['Nintendo']   \n",
              "1001              ['Paradigm Entertainment']   \n",
              "1002                            ['Nintendo']   \n",
              "\n",
              "                                       Genres  \n",
              "2     ['Miscellaneous', 'Exercise / Fitness']  \n",
              "3       ['Strategy', 'Turn-Based', 'Tactics']  \n",
              "4             ['Action', \"Beat-'Em-Up\", '3D']  \n",
              "7        ['Strategy', 'Real-Time', 'General']  \n",
              "8                        ['Action', 'Arcade']  \n",
              "...                                       ...  \n",
              "998                     ['Action', 'General']  \n",
              "999             ['Driving', 'Racing', 'Kart']  \n",
              "1000    ['Driving', 'Racing', 'Snow / Water']  \n",
              "1001                ['Simulation', 'General']  \n",
              "1002           ['Action', 'Platformer', '3D']  \n",
              "\n",
              "[603 rows x 9 columns]"
            ],
            "text/html": [
              "\n",
              "  <div id=\"df-d241cdf3-3816-4a80-ae4e-0bbd01467c6c\">\n",
              "    <div class=\"colab-df-container\">\n",
              "      <div>\n",
              "<style scoped>\n",
              "    .dataframe tbody tr th:only-of-type {\n",
              "        vertical-align: middle;\n",
              "    }\n",
              "\n",
              "    .dataframe tbody tr th {\n",
              "        vertical-align: top;\n",
              "    }\n",
              "\n",
              "    .dataframe thead th {\n",
              "        text-align: right;\n",
              "    }\n",
              "</style>\n",
              "<table border=\"1\" class=\"dataframe\">\n",
              "  <thead>\n",
              "    <tr style=\"text-align: right;\">\n",
              "      <th></th>\n",
              "      <th>Meta Score</th>\n",
              "      <th>Title</th>\n",
              "      <th>Platform</th>\n",
              "      <th>Date</th>\n",
              "      <th>User Score</th>\n",
              "      <th>Link</th>\n",
              "      <th>Esrb Rating</th>\n",
              "      <th>Developers</th>\n",
              "      <th>Genres</th>\n",
              "    </tr>\n",
              "  </thead>\n",
              "  <tbody>\n",
              "    <tr>\n",
              "      <th>2</th>\n",
              "      <td>66.0</td>\n",
              "      <td>Fitness Boxing 2: Rhythm &amp; Exercise</td>\n",
              "      <td>Switch</td>\n",
              "      <td>Dec 4, 2020</td>\n",
              "      <td>6.2</td>\n",
              "      <td>/game/switch/fitness-boxing-2-rhythm-exercise</td>\n",
              "      <td>E</td>\n",
              "      <td>['Nintendo', ' Imagineer Co.', 'Ltd.']</td>\n",
              "      <td>['Miscellaneous', 'Exercise / Fitness']</td>\n",
              "    </tr>\n",
              "    <tr>\n",
              "      <th>3</th>\n",
              "      <td>63.0</td>\n",
              "      <td>Fire Emblem: Shadow Dragon &amp; the Blade of Light</td>\n",
              "      <td>Switch</td>\n",
              "      <td>Dec 4, 2020</td>\n",
              "      <td>7.6</td>\n",
              "      <td>/game/switch/fire-emblem-shadow-dragon-the-bla...</td>\n",
              "      <td>E</td>\n",
              "      <td>['Intelligent Systems']</td>\n",
              "      <td>['Strategy', 'Turn-Based', 'Tactics']</td>\n",
              "    </tr>\n",
              "    <tr>\n",
              "      <th>4</th>\n",
              "      <td>79.0</td>\n",
              "      <td>Hyrule Warriors: Age of Calamity</td>\n",
              "      <td>Switch</td>\n",
              "      <td>Nov 20, 2020</td>\n",
              "      <td>8.1</td>\n",
              "      <td>/game/switch/hyrule-warriors-age-of-calamity</td>\n",
              "      <td>T</td>\n",
              "      <td>['Omega Force', ' Koei Tecmo Games']</td>\n",
              "      <td>['Action', \"Beat-'Em-Up\", '3D']</td>\n",
              "    </tr>\n",
              "    <tr>\n",
              "      <th>7</th>\n",
              "      <td>85.0</td>\n",
              "      <td>Pikmin 3 Deluxe</td>\n",
              "      <td>Switch</td>\n",
              "      <td>Oct 30, 2020</td>\n",
              "      <td>8.4</td>\n",
              "      <td>/game/switch/pikmin-3-deluxe</td>\n",
              "      <td>E10+</td>\n",
              "      <td>['Eighting', ' Nintendo']</td>\n",
              "      <td>['Strategy', 'Real-Time', 'General']</td>\n",
              "    </tr>\n",
              "    <tr>\n",
              "      <th>8</th>\n",
              "      <td>79.0</td>\n",
              "      <td>Part Time UFO</td>\n",
              "      <td>Switch</td>\n",
              "      <td>Oct 28, 2020</td>\n",
              "      <td>7.3</td>\n",
              "      <td>/game/switch/part-time-ufo</td>\n",
              "      <td>E10+</td>\n",
              "      <td>['HAL Labs']</td>\n",
              "      <td>['Action', 'Arcade']</td>\n",
              "    </tr>\n",
              "    <tr>\n",
              "      <th>...</th>\n",
              "      <td>...</td>\n",
              "      <td>...</td>\n",
              "      <td>...</td>\n",
              "      <td>...</td>\n",
              "      <td>...</td>\n",
              "      <td>...</td>\n",
              "      <td>...</td>\n",
              "      <td>...</td>\n",
              "      <td>...</td>\n",
              "    </tr>\n",
              "    <tr>\n",
              "      <th>998</th>\n",
              "      <td>90.0</td>\n",
              "      <td>Blast Corps</td>\n",
              "      <td>N64</td>\n",
              "      <td>Feb 28, 1997</td>\n",
              "      <td>8.4</td>\n",
              "      <td>/game/nintendo-64/blast-corps</td>\n",
              "      <td>E</td>\n",
              "      <td>['Rare Ltd.']</td>\n",
              "      <td>['Action', 'General']</td>\n",
              "    </tr>\n",
              "    <tr>\n",
              "      <th>999</th>\n",
              "      <td>83.0</td>\n",
              "      <td>Mario Kart 64</td>\n",
              "      <td>N64</td>\n",
              "      <td>Feb 10, 1997</td>\n",
              "      <td>8.6</td>\n",
              "      <td>/game/nintendo-64/mario-kart-64</td>\n",
              "      <td>E</td>\n",
              "      <td>['Nintendo']</td>\n",
              "      <td>['Driving', 'Racing', 'Kart']</td>\n",
              "    </tr>\n",
              "    <tr>\n",
              "      <th>1000</th>\n",
              "      <td>92.0</td>\n",
              "      <td>Wave Race 64</td>\n",
              "      <td>N64</td>\n",
              "      <td>Nov 1, 1996</td>\n",
              "      <td>8.3</td>\n",
              "      <td>/game/nintendo-64/wave-race-64</td>\n",
              "      <td>E</td>\n",
              "      <td>['Nintendo']</td>\n",
              "      <td>['Driving', 'Racing', 'Snow / Water']</td>\n",
              "    </tr>\n",
              "    <tr>\n",
              "      <th>1001</th>\n",
              "      <td>80.0</td>\n",
              "      <td>Pilotwings 64</td>\n",
              "      <td>N64</td>\n",
              "      <td>Sep 29, 1996</td>\n",
              "      <td>8.0</td>\n",
              "      <td>/game/nintendo-64/pilotwings-64</td>\n",
              "      <td>E</td>\n",
              "      <td>['Paradigm Entertainment']</td>\n",
              "      <td>['Simulation', 'General']</td>\n",
              "    </tr>\n",
              "    <tr>\n",
              "      <th>1002</th>\n",
              "      <td>94.0</td>\n",
              "      <td>Super Mario 64</td>\n",
              "      <td>N64</td>\n",
              "      <td>Sep 26, 1996</td>\n",
              "      <td>9.2</td>\n",
              "      <td>/game/nintendo-64/super-mario-64</td>\n",
              "      <td>E</td>\n",
              "      <td>['Nintendo']</td>\n",
              "      <td>['Action', 'Platformer', '3D']</td>\n",
              "    </tr>\n",
              "  </tbody>\n",
              "</table>\n",
              "<p>603 rows × 9 columns</p>\n",
              "</div>\n",
              "      <button class=\"colab-df-convert\" onclick=\"convertToInteractive('df-d241cdf3-3816-4a80-ae4e-0bbd01467c6c')\"\n",
              "              title=\"Convert this dataframe to an interactive table.\"\n",
              "              style=\"display:none;\">\n",
              "        \n",
              "  <svg xmlns=\"http://www.w3.org/2000/svg\" height=\"24px\"viewBox=\"0 0 24 24\"\n",
              "       width=\"24px\">\n",
              "    <path d=\"M0 0h24v24H0V0z\" fill=\"none\"/>\n",
              "    <path d=\"M18.56 5.44l.94 2.06.94-2.06 2.06-.94-2.06-.94-.94-2.06-.94 2.06-2.06.94zm-11 1L8.5 8.5l.94-2.06 2.06-.94-2.06-.94L8.5 2.5l-.94 2.06-2.06.94zm10 10l.94 2.06.94-2.06 2.06-.94-2.06-.94-.94-2.06-.94 2.06-2.06.94z\"/><path d=\"M17.41 7.96l-1.37-1.37c-.4-.4-.92-.59-1.43-.59-.52 0-1.04.2-1.43.59L10.3 9.45l-7.72 7.72c-.78.78-.78 2.05 0 2.83L4 21.41c.39.39.9.59 1.41.59.51 0 1.02-.2 1.41-.59l7.78-7.78 2.81-2.81c.8-.78.8-2.07 0-2.86zM5.41 20L4 18.59l7.72-7.72 1.47 1.35L5.41 20z\"/>\n",
              "  </svg>\n",
              "      </button>\n",
              "      \n",
              "  <style>\n",
              "    .colab-df-container {\n",
              "      display:flex;\n",
              "      flex-wrap:wrap;\n",
              "      gap: 12px;\n",
              "    }\n",
              "\n",
              "    .colab-df-convert {\n",
              "      background-color: #E8F0FE;\n",
              "      border: none;\n",
              "      border-radius: 50%;\n",
              "      cursor: pointer;\n",
              "      display: none;\n",
              "      fill: #1967D2;\n",
              "      height: 32px;\n",
              "      padding: 0 0 0 0;\n",
              "      width: 32px;\n",
              "    }\n",
              "\n",
              "    .colab-df-convert:hover {\n",
              "      background-color: #E2EBFA;\n",
              "      box-shadow: 0px 1px 2px rgba(60, 64, 67, 0.3), 0px 1px 3px 1px rgba(60, 64, 67, 0.15);\n",
              "      fill: #174EA6;\n",
              "    }\n",
              "\n",
              "    [theme=dark] .colab-df-convert {\n",
              "      background-color: #3B4455;\n",
              "      fill: #D2E3FC;\n",
              "    }\n",
              "\n",
              "    [theme=dark] .colab-df-convert:hover {\n",
              "      background-color: #434B5C;\n",
              "      box-shadow: 0px 1px 3px 1px rgba(0, 0, 0, 0.15);\n",
              "      filter: drop-shadow(0px 1px 2px rgba(0, 0, 0, 0.3));\n",
              "      fill: #FFFFFF;\n",
              "    }\n",
              "  </style>\n",
              "\n",
              "      <script>\n",
              "        const buttonEl =\n",
              "          document.querySelector('#df-d241cdf3-3816-4a80-ae4e-0bbd01467c6c button.colab-df-convert');\n",
              "        buttonEl.style.display =\n",
              "          google.colab.kernel.accessAllowed ? 'block' : 'none';\n",
              "\n",
              "        async function convertToInteractive(key) {\n",
              "          const element = document.querySelector('#df-d241cdf3-3816-4a80-ae4e-0bbd01467c6c');\n",
              "          const dataTable =\n",
              "            await google.colab.kernel.invokeFunction('convertToInteractive',\n",
              "                                                     [key], {});\n",
              "          if (!dataTable) return;\n",
              "\n",
              "          const docLinkHtml = 'Like what you see? Visit the ' +\n",
              "            '<a target=\"_blank\" href=https://colab.research.google.com/notebooks/data_table.ipynb>data table notebook</a>'\n",
              "            + ' to learn more about interactive tables.';\n",
              "          element.innerHTML = '';\n",
              "          dataTable['output_type'] = 'display_data';\n",
              "          await google.colab.output.renderOutput(dataTable, element);\n",
              "          const docLink = document.createElement('div');\n",
              "          docLink.innerHTML = docLinkHtml;\n",
              "          element.appendChild(docLink);\n",
              "        }\n",
              "      </script>\n",
              "    </div>\n",
              "  </div>\n",
              "  "
            ]
          },
          "metadata": {},
          "execution_count": 6
        }
      ],
      "source": [
        "import pandas as pd\n",
        "import matplotlib.pyplot as plt\n",
        "import numpy as np\n",
        "\n",
        "nintendo_df = pd.read_csv('data.csv') #downloaded from https://www.kaggle.com/datasets/mrmorj/nintendo-games-dataset\n",
        "\n",
        "headers =  [\"Meta Score\",\"Title\",\"Platform\",\"Date\",\"User Score\",\"Link\",\"Esrb Rating\",\"Developers\",\"Genres\"]\n",
        "nintendo_df.columns = headers\n",
        "nintendo_df = nintendo_df.dropna()\n",
        "\n",
        "nintendo_df"
      ]
    },
    {
      "cell_type": "code",
      "source": [
        "ignore_strings = ['[',\"]\" ,\",\"]\n",
        "def string_to_list(string):\n",
        "    wordgoing = True\n",
        "    word_list = []\n",
        "    word = ''\n",
        "    for i in range(len(string)):\n",
        "        if (i == (len(string) - 1)):\n",
        "            pass\n",
        "        elif string[i] == \"'\":\n",
        "          wordgoing = not wordgoing\n",
        "          if wordgoing == True:\n",
        "            word_list.append(word.strip())\n",
        "            word = \"\"\n",
        "        elif (string[i] in ignore_strings):\n",
        "            pass\n",
        "        else:\n",
        "            word += string[i]\n",
        "    return word_list\n",
        "\n",
        "string_to_list(\"['Action', 'Platformer', '3D']\")"
      ],
      "metadata": {
        "colab": {
          "base_uri": "https://localhost:8080/"
        },
        "id": "uL-PR7NV-HeW",
        "outputId": "beb181ef-1981-4bc1-930a-6aeddbf7489d"
      },
      "execution_count": null,
      "outputs": [
        {
          "output_type": "execute_result",
          "data": {
            "text/plain": [
              "['Action', 'Platformer', '3D']"
            ]
          },
          "metadata": {},
          "execution_count": 7
        }
      ]
    },
    {
      "cell_type": "markdown",
      "source": [
        "# **Adjust to expand the Genres**"
      ],
      "metadata": {
        "id": "_6xFd8Gj0XSP"
      }
    },
    {
      "cell_type": "code",
      "source": [
        "def expand_lists(column_name, df):\n",
        "  for row in df.values:\n",
        "      cat_items = string_to_list(row[-1])\n",
        "      for item in cat_items:\n",
        "        new_row = row[:-1].tolist()\n",
        "        new_row.append(item)\n",
        "        new_data = pd.DataFrame([new_row], columns=headers)\n",
        "        df = df.append(new_data)\n",
        "  \n",
        "  return df\n"
      ],
      "metadata": {
        "id": "ITpaYjiKU2Zh"
      },
      "execution_count": null,
      "outputs": []
    },
    {
      "cell_type": "code",
      "source": [
        "new_df = pd.DataFrame()\n",
        "for row in nintendo_df.values:\n",
        "    row_genres = string_to_list(row[-1])\n",
        "    for genre in row_genres:\n",
        "      new_row = row[:-1].tolist()\n",
        "      new_row.append(genre)\n",
        "      new_data = pd.DataFrame([new_row], columns=headers)\n",
        "      new_df = new_df.append(new_data)\n",
        "\n",
        "new_df_2 = pd.DataFrame()\n",
        "for row in nintendo_df.values:\n",
        "    row_devs = string_to_list(row[-2])\n",
        "    print(row_devs)\n",
        "    for dev in row_devs:\n",
        "      new_row = row.tolist()\n",
        "      del new_row[-2]\n",
        "      new_row.insert(-1,dev)\n",
        "      new_data = pd.DataFrame([new_row], columns=headers)\n",
        "      new_df_2 = new_df_2.append(new_data)\n",
        "\n",
        "new_df_2"
      ],
      "metadata": {
        "id": "q5pG1FvV1cro"
      },
      "execution_count": null,
      "outputs": []
    },
    {
      "cell_type": "code",
      "source": [
        "print(new_df['Genres'].unique())\n",
        "print(new_df_2['Developers'].unique())\n",
        "print(nintendo_df['Esrb Rating'].unique())"
      ],
      "metadata": {
        "colab": {
          "base_uri": "https://localhost:8080/"
        },
        "id": "4xdvzoOuWbs_",
        "outputId": "9e81e21b-be28-4bdc-8326-e01e554607a0"
      },
      "execution_count": null,
      "outputs": [
        {
          "output_type": "stream",
          "name": "stdout",
          "text": [
            "['Miscellaneous' 'Exercise / Fitness' 'Strategy' 'Turn-Based' 'Tactics'\n",
            " 'Action' '\"Beat-Em-Up\"' 'Real-Time' 'General' 'Arcade' 'Racing'\n",
            " 'Automobile' 'Compilation' 'Role-Playing' 'Puzzle' 'Matching' 'Trainer'\n",
            " 'Party / Minigame' 'Action RPG' 'Simulation' 'Virtual' 'Virtual Life'\n",
            " 'Roguelike' 'Japanese-Style' 'Action Adventure' 'Open-World' 'Vehicle'\n",
            " 'Combat' 'Platformer' '2D' 'Rhythm' 'Music' '3D' 'Stacking' 'Fighting'\n",
            " 'Sports' 'Individual' 'Tennis' 'Shooter' 'Third-Person' 'Adventure'\n",
            " 'Linear' 'Sandbox' 'Career' '\"Shoot-Em-Up\"' 'Boxing / Martial Arts'\n",
            " 'Other' 'Fantasy' 'Logic' 'First-Person' 'Athletics' 'Edutainment'\n",
            " 'Application' 'Board / Card Game' 'Modern' 'Rail' 'Space' 'Sci-Fi'\n",
            " 'Defense' 'Horror' 'Survival' 'Driving' 'Kart' 'Party'\n",
            " 'Console-style RPG' 'Traditional' 'Golf' 'Submarine' 'Marine'\n",
            " 'Olympic Sports' '\"Beat-Em-Up\" \"Beat-' 'Em-Up\" 2D' 'Board Games'\n",
            " 'Scrolling' 'Soccer' 'Hidden Object' 'Pet' 'Flight' 'Civilian Plane'\n",
            " 'Civilian' 'Em-Up\" 3D' 'Visual Novel' 'Motorcycle' 'Motocross'\n",
            " 'Alternative' 'Boxing' 'Team' 'Baseball' 'Light Gun' 'Military'\n",
            " 'Basketball' 'Historic' 'Parlor' 'Pinball' 'Sim' 'Dancing'\n",
            " 'Point-and-Click' 'On-foot' 'Futuristic' 'Snowboarding' 'Rally / Offroad'\n",
            " 'Snow / Water']\n",
            "['Nintendo' 'Imagineer Co.' 'Ltd.' 'Intelligent Systems' 'Omega Force'\n",
            " 'Koei Tecmo Games' 'Eighting' 'HAL Labs' 'Velan Studios'\n",
            " 'The Pokemon Company' 'Game Freak' 'Nd Cube' 'Monolith Soft'\n",
            " 'Paladin Studios' 'Spike Chunsoft' 'Atlus' 'Level 5' 'Tarsier Studios'\n",
            " 'Next Level Games' 'Square Enix' 'GREZZO' 'First Studio'\n",
            " 'Marvelous First Studio' 'PlatinumGames' 'Team Ninja'\n",
            " 'Brace Yourself Games' 'Good-Feel' 'Arika' 'Grasshopper Manufacture'\n",
            " 'Alphadream Corporation' 'Bandai Namco Games' 'Sora Ltd.' 'h.a.n.d. Inc.'\n",
            " 'Jupiter Corporation' 'Cygames' 'Nintendo EAD Tokyo'\n",
            " 'Nintendo Software Technology' 'Acquire' 'Camelot Software Planning'\n",
            " 'indieszero' 'Vanpool' 'Retro Studios' 'Creatures Inc.' 'syn Sophia'\n",
            " 'Ludosity Interactive' 'SFB Games' 'Dimps Corporation' 'Mercury Steam'\n",
            " 'Capcom' 'Arzest' 'OVER FENCE CO.' 'LTD.' 'Over Fence' 'ArtePiazza'\n",
            " 'Sega Sports R&D' 'Headstrong Games' 'Silicon Studio' 'Tantalus'\n",
            " 'Tantatus' 'Spike Chunsoft Co. Ltd.' 'Skip Ltd.' 'Valhalla Game Studios'\n",
            " 'GungHo' 'Monster Games Inc.' 'Ambrella' 'RED Entertainment'\n",
            " 'Genius Sonority Inc.' 'Bee Tribe' 'Brownie Brown' 'HexaDrive' 'TT Games'\n",
            " 'Poisoft' 'Mitchell' 'Curve Studios' 'FreeStyleGames' 'Asobism'\n",
            " 'Co. ltd.' 'Koei' 'Tecmo Koei Games' 'Keys Factory' 'Opus' 'Project Sora'\n",
            " 'Grounding Inc.' 'Marvelous AQL'\n",
            " 'Entertainment Analysis & Development Division' 'Artdink' 'Hudson Soft'\n",
            " 'TOSE' 'Sanzaru Games' 'Vitei' 'Artoon' 'Paon Corporation' 'Treasure'\n",
            " 'Q-Games' 'ChunSoft' 'fyto' 'Gaijin Games' 'Zoonami Ltd.' 'Mindware'\n",
            " 'Namco Bandai Games' 'Nuevo Retro Games' 'Game Arts' 'Sega'\n",
            " 'Kuju Entertainment' 'Hudson' 'Noise Inc.' 'Suzak' 'Rare Ltd.' 'Cing'\n",
            " 'Flagship' 'iNiS' 'Nex Entertainment' 'Agenda' 'From Software'\n",
            " 'Polygon Magic' 'AI' 'Vivarium' 'Namco' 'T&E Soft' 'Fuse Games Limited'\n",
            " 'n-Space' 'Q Entertainment' 'Tose Software' 'Konami' 'Amusement Vision'\n",
            " 'Pax Softonica' 'Silicon Knights' 'Left Field Productions' 'Newcom'\n",
            " 'Mass Media' 'Hal' 'Paradigm Entertainment']\n",
            "['E' 'T' 'E10+' 'M']\n"
          ]
        }
      ]
    },
    {
      "cell_type": "markdown",
      "source": [
        "Now we can form our prediction of which Genre ✈"
      ],
      "metadata": {
        "id": "0ev7YTcNW2y8"
      }
    },
    {
      "cell_type": "markdown",
      "source": [
        "# **Graph Time!**"
      ],
      "metadata": {
        "id": "fu4xJVEe1T7Q"
      }
    },
    {
      "cell_type": "markdown",
      "source": [
        "Graphs and statistics Required!\n",
        "\n",
        "Group 1: Developers.\n",
        "GRAPH\n",
        "Categories of Developer vs User_score and Meta_score\n",
        "\n",
        "Group 2: Genres.\n",
        "GRAPH\n",
        "Categories of Genre vs User_score and Meta_score\n",
        "\n",
        "Group 3: Esrb Rating\n",
        "Calculate Mode Rating\n",
        "Calculate Average Rating per Score\n",
        "\n",
        "Stay tuned!"
      ],
      "metadata": {
        "id": "baarmlJDbe8D"
      }
    },
    {
      "cell_type": "code",
      "source": [],
      "metadata": {
        "id": "RCg0KqFLbeNi"
      },
      "execution_count": null,
      "outputs": []
    },
    {
      "cell_type": "code",
      "source": [
        "#plt.scatter(nintendo_df['user_score'],nintendo_df['meta_score'])\n",
        "plt.bar(nintendo_df['genres'],nintendo_df['user_score'])"
      ],
      "metadata": {
        "colab": {
          "base_uri": "https://localhost:8080/",
          "height": 746
        },
        "id": "QzwOvz7unQ1U",
        "outputId": "14344fc7-da2e-4de1-a4a3-02f646db51f9"
      },
      "execution_count": null,
      "outputs": [
        {
          "output_type": "error",
          "ename": "TypeError",
          "evalue": "ignored",
          "traceback": [
            "\u001b[0;31m---------------------------------------------------------------------------\u001b[0m",
            "\u001b[0;31mTypeError\u001b[0m                                 Traceback (most recent call last)",
            "\u001b[0;32m<ipython-input-12-d9dff2cd7a27>\u001b[0m in \u001b[0;36m<cell line: 2>\u001b[0;34m()\u001b[0m\n\u001b[1;32m      1\u001b[0m \u001b[0;31m#plt.scatter(nintendo_df['user_score'],nintendo_df['meta_score'])\u001b[0m\u001b[0;34m\u001b[0m\u001b[0;34m\u001b[0m\u001b[0m\n\u001b[0;32m----> 2\u001b[0;31m \u001b[0mplt\u001b[0m\u001b[0;34m.\u001b[0m\u001b[0mbar\u001b[0m\u001b[0;34m(\u001b[0m\u001b[0mnintendo_df\u001b[0m\u001b[0;34m[\u001b[0m\u001b[0;34m'genres'\u001b[0m\u001b[0;34m]\u001b[0m\u001b[0;34m,\u001b[0m\u001b[0mnintendo_df\u001b[0m\u001b[0;34m[\u001b[0m\u001b[0;34m'user_score'\u001b[0m\u001b[0;34m]\u001b[0m\u001b[0;34m)\u001b[0m\u001b[0;34m\u001b[0m\u001b[0;34m\u001b[0m\u001b[0m\n\u001b[0m",
            "\u001b[0;32m/usr/local/lib/python3.10/dist-packages/matplotlib/pyplot.py\u001b[0m in \u001b[0;36mbar\u001b[0;34m(x, height, width, bottom, align, data, **kwargs)\u001b[0m\n\u001b[1;32m   2437\u001b[0m         \u001b[0mx\u001b[0m\u001b[0;34m,\u001b[0m \u001b[0mheight\u001b[0m\u001b[0;34m,\u001b[0m \u001b[0mwidth\u001b[0m\u001b[0;34m=\u001b[0m\u001b[0;36m0.8\u001b[0m\u001b[0;34m,\u001b[0m \u001b[0mbottom\u001b[0m\u001b[0;34m=\u001b[0m\u001b[0;32mNone\u001b[0m\u001b[0;34m,\u001b[0m \u001b[0;34m*\u001b[0m\u001b[0;34m,\u001b[0m \u001b[0malign\u001b[0m\u001b[0;34m=\u001b[0m\u001b[0;34m'center'\u001b[0m\u001b[0;34m,\u001b[0m\u001b[0;34m\u001b[0m\u001b[0;34m\u001b[0m\u001b[0m\n\u001b[1;32m   2438\u001b[0m         data=None, **kwargs):\n\u001b[0;32m-> 2439\u001b[0;31m     return gca().bar(\n\u001b[0m\u001b[1;32m   2440\u001b[0m         \u001b[0mx\u001b[0m\u001b[0;34m,\u001b[0m \u001b[0mheight\u001b[0m\u001b[0;34m,\u001b[0m \u001b[0mwidth\u001b[0m\u001b[0;34m=\u001b[0m\u001b[0mwidth\u001b[0m\u001b[0;34m,\u001b[0m \u001b[0mbottom\u001b[0m\u001b[0;34m=\u001b[0m\u001b[0mbottom\u001b[0m\u001b[0;34m,\u001b[0m \u001b[0malign\u001b[0m\u001b[0;34m=\u001b[0m\u001b[0malign\u001b[0m\u001b[0;34m,\u001b[0m\u001b[0;34m\u001b[0m\u001b[0;34m\u001b[0m\u001b[0m\n\u001b[1;32m   2441\u001b[0m         **({\"data\": data} if data is not None else {}), **kwargs)\n",
            "\u001b[0;32m/usr/local/lib/python3.10/dist-packages/matplotlib/__init__.py\u001b[0m in \u001b[0;36minner\u001b[0;34m(ax, data, *args, **kwargs)\u001b[0m\n\u001b[1;32m   1440\u001b[0m     \u001b[0;32mdef\u001b[0m \u001b[0minner\u001b[0m\u001b[0;34m(\u001b[0m\u001b[0max\u001b[0m\u001b[0;34m,\u001b[0m \u001b[0;34m*\u001b[0m\u001b[0margs\u001b[0m\u001b[0;34m,\u001b[0m \u001b[0mdata\u001b[0m\u001b[0;34m=\u001b[0m\u001b[0;32mNone\u001b[0m\u001b[0;34m,\u001b[0m \u001b[0;34m**\u001b[0m\u001b[0mkwargs\u001b[0m\u001b[0;34m)\u001b[0m\u001b[0;34m:\u001b[0m\u001b[0;34m\u001b[0m\u001b[0;34m\u001b[0m\u001b[0m\n\u001b[1;32m   1441\u001b[0m         \u001b[0;32mif\u001b[0m \u001b[0mdata\u001b[0m \u001b[0;32mis\u001b[0m \u001b[0;32mNone\u001b[0m\u001b[0;34m:\u001b[0m\u001b[0;34m\u001b[0m\u001b[0;34m\u001b[0m\u001b[0m\n\u001b[0;32m-> 1442\u001b[0;31m             \u001b[0;32mreturn\u001b[0m \u001b[0mfunc\u001b[0m\u001b[0;34m(\u001b[0m\u001b[0max\u001b[0m\u001b[0;34m,\u001b[0m \u001b[0;34m*\u001b[0m\u001b[0mmap\u001b[0m\u001b[0;34m(\u001b[0m\u001b[0msanitize_sequence\u001b[0m\u001b[0;34m,\u001b[0m \u001b[0margs\u001b[0m\u001b[0;34m)\u001b[0m\u001b[0;34m,\u001b[0m \u001b[0;34m**\u001b[0m\u001b[0mkwargs\u001b[0m\u001b[0;34m)\u001b[0m\u001b[0;34m\u001b[0m\u001b[0;34m\u001b[0m\u001b[0m\n\u001b[0m\u001b[1;32m   1443\u001b[0m \u001b[0;34m\u001b[0m\u001b[0m\n\u001b[1;32m   1444\u001b[0m         \u001b[0mbound\u001b[0m \u001b[0;34m=\u001b[0m \u001b[0mnew_sig\u001b[0m\u001b[0;34m.\u001b[0m\u001b[0mbind\u001b[0m\u001b[0;34m(\u001b[0m\u001b[0max\u001b[0m\u001b[0;34m,\u001b[0m \u001b[0;34m*\u001b[0m\u001b[0margs\u001b[0m\u001b[0;34m,\u001b[0m \u001b[0;34m**\u001b[0m\u001b[0mkwargs\u001b[0m\u001b[0;34m)\u001b[0m\u001b[0;34m\u001b[0m\u001b[0;34m\u001b[0m\u001b[0m\n",
            "\u001b[0;32m/usr/local/lib/python3.10/dist-packages/matplotlib/axes/_axes.py\u001b[0m in \u001b[0;36mbar\u001b[0;34m(self, x, height, width, bottom, align, **kwargs)\u001b[0m\n\u001b[1;32m   2390\u001b[0m \u001b[0;34m\u001b[0m\u001b[0m\n\u001b[1;32m   2391\u001b[0m         \u001b[0;32mif\u001b[0m \u001b[0morientation\u001b[0m \u001b[0;34m==\u001b[0m \u001b[0;34m'vertical'\u001b[0m\u001b[0;34m:\u001b[0m\u001b[0;34m\u001b[0m\u001b[0;34m\u001b[0m\u001b[0m\n\u001b[0;32m-> 2392\u001b[0;31m             self._process_unit_info(\n\u001b[0m\u001b[1;32m   2393\u001b[0m                 [(\"x\", x), (\"y\", height)], kwargs, convert=False)\n\u001b[1;32m   2394\u001b[0m             \u001b[0;32mif\u001b[0m \u001b[0mlog\u001b[0m\u001b[0;34m:\u001b[0m\u001b[0;34m\u001b[0m\u001b[0;34m\u001b[0m\u001b[0m\n",
            "\u001b[0;32m/usr/local/lib/python3.10/dist-packages/matplotlib/axes/_base.py\u001b[0m in \u001b[0;36m_process_unit_info\u001b[0;34m(self, datasets, kwargs, convert)\u001b[0m\n\u001b[1;32m   2547\u001b[0m             \u001b[0;31m# Update from data if axis is already set but no unit is set yet.\u001b[0m\u001b[0;34m\u001b[0m\u001b[0;34m\u001b[0m\u001b[0m\n\u001b[1;32m   2548\u001b[0m             \u001b[0;32mif\u001b[0m \u001b[0maxis\u001b[0m \u001b[0;32mis\u001b[0m \u001b[0;32mnot\u001b[0m \u001b[0;32mNone\u001b[0m \u001b[0;32mand\u001b[0m \u001b[0mdata\u001b[0m \u001b[0;32mis\u001b[0m \u001b[0;32mnot\u001b[0m \u001b[0;32mNone\u001b[0m \u001b[0;32mand\u001b[0m \u001b[0;32mnot\u001b[0m \u001b[0maxis\u001b[0m\u001b[0;34m.\u001b[0m\u001b[0mhave_units\u001b[0m\u001b[0;34m(\u001b[0m\u001b[0;34m)\u001b[0m\u001b[0;34m:\u001b[0m\u001b[0;34m\u001b[0m\u001b[0;34m\u001b[0m\u001b[0m\n\u001b[0;32m-> 2549\u001b[0;31m                 \u001b[0maxis\u001b[0m\u001b[0;34m.\u001b[0m\u001b[0mupdate_units\u001b[0m\u001b[0;34m(\u001b[0m\u001b[0mdata\u001b[0m\u001b[0;34m)\u001b[0m\u001b[0;34m\u001b[0m\u001b[0;34m\u001b[0m\u001b[0m\n\u001b[0m\u001b[1;32m   2550\u001b[0m         \u001b[0;32mfor\u001b[0m \u001b[0maxis_name\u001b[0m\u001b[0;34m,\u001b[0m \u001b[0maxis\u001b[0m \u001b[0;32min\u001b[0m \u001b[0maxis_map\u001b[0m\u001b[0;34m.\u001b[0m\u001b[0mitems\u001b[0m\u001b[0;34m(\u001b[0m\u001b[0;34m)\u001b[0m\u001b[0;34m:\u001b[0m\u001b[0;34m\u001b[0m\u001b[0;34m\u001b[0m\u001b[0m\n\u001b[1;32m   2551\u001b[0m             \u001b[0;31m# Return if no axis is set.\u001b[0m\u001b[0;34m\u001b[0m\u001b[0;34m\u001b[0m\u001b[0m\n",
            "\u001b[0;32m/usr/local/lib/python3.10/dist-packages/matplotlib/axis.py\u001b[0m in \u001b[0;36mupdate_units\u001b[0;34m(self, data)\u001b[0m\n\u001b[1;32m   1673\u001b[0m         \u001b[0mneednew\u001b[0m \u001b[0;34m=\u001b[0m \u001b[0mself\u001b[0m\u001b[0;34m.\u001b[0m\u001b[0mconverter\u001b[0m \u001b[0;34m!=\u001b[0m \u001b[0mconverter\u001b[0m\u001b[0;34m\u001b[0m\u001b[0;34m\u001b[0m\u001b[0m\n\u001b[1;32m   1674\u001b[0m         \u001b[0mself\u001b[0m\u001b[0;34m.\u001b[0m\u001b[0mconverter\u001b[0m \u001b[0;34m=\u001b[0m \u001b[0mconverter\u001b[0m\u001b[0;34m\u001b[0m\u001b[0;34m\u001b[0m\u001b[0m\n\u001b[0;32m-> 1675\u001b[0;31m         \u001b[0mdefault\u001b[0m \u001b[0;34m=\u001b[0m \u001b[0mself\u001b[0m\u001b[0;34m.\u001b[0m\u001b[0mconverter\u001b[0m\u001b[0;34m.\u001b[0m\u001b[0mdefault_units\u001b[0m\u001b[0;34m(\u001b[0m\u001b[0mdata\u001b[0m\u001b[0;34m,\u001b[0m \u001b[0mself\u001b[0m\u001b[0;34m)\u001b[0m\u001b[0;34m\u001b[0m\u001b[0;34m\u001b[0m\u001b[0m\n\u001b[0m\u001b[1;32m   1676\u001b[0m         \u001b[0;32mif\u001b[0m \u001b[0mdefault\u001b[0m \u001b[0;32mis\u001b[0m \u001b[0;32mnot\u001b[0m \u001b[0;32mNone\u001b[0m \u001b[0;32mand\u001b[0m \u001b[0mself\u001b[0m\u001b[0;34m.\u001b[0m\u001b[0munits\u001b[0m \u001b[0;32mis\u001b[0m \u001b[0;32mNone\u001b[0m\u001b[0;34m:\u001b[0m\u001b[0;34m\u001b[0m\u001b[0;34m\u001b[0m\u001b[0m\n\u001b[1;32m   1677\u001b[0m             \u001b[0mself\u001b[0m\u001b[0;34m.\u001b[0m\u001b[0mset_units\u001b[0m\u001b[0;34m(\u001b[0m\u001b[0mdefault\u001b[0m\u001b[0;34m)\u001b[0m\u001b[0;34m\u001b[0m\u001b[0;34m\u001b[0m\u001b[0m\n",
            "\u001b[0;32m/usr/local/lib/python3.10/dist-packages/matplotlib/category.py\u001b[0m in \u001b[0;36mdefault_units\u001b[0;34m(data, axis)\u001b[0m\n\u001b[1;32m    103\u001b[0m         \u001b[0;31m# the conversion call stack is default_units -> axis_info -> convert\u001b[0m\u001b[0;34m\u001b[0m\u001b[0;34m\u001b[0m\u001b[0m\n\u001b[1;32m    104\u001b[0m         \u001b[0;32mif\u001b[0m \u001b[0maxis\u001b[0m\u001b[0;34m.\u001b[0m\u001b[0munits\u001b[0m \u001b[0;32mis\u001b[0m \u001b[0;32mNone\u001b[0m\u001b[0;34m:\u001b[0m\u001b[0;34m\u001b[0m\u001b[0;34m\u001b[0m\u001b[0m\n\u001b[0;32m--> 105\u001b[0;31m             \u001b[0maxis\u001b[0m\u001b[0;34m.\u001b[0m\u001b[0mset_units\u001b[0m\u001b[0;34m(\u001b[0m\u001b[0mUnitData\u001b[0m\u001b[0;34m(\u001b[0m\u001b[0mdata\u001b[0m\u001b[0;34m)\u001b[0m\u001b[0;34m)\u001b[0m\u001b[0;34m\u001b[0m\u001b[0;34m\u001b[0m\u001b[0m\n\u001b[0m\u001b[1;32m    106\u001b[0m         \u001b[0;32melse\u001b[0m\u001b[0;34m:\u001b[0m\u001b[0;34m\u001b[0m\u001b[0;34m\u001b[0m\u001b[0m\n\u001b[1;32m    107\u001b[0m             \u001b[0maxis\u001b[0m\u001b[0;34m.\u001b[0m\u001b[0munits\u001b[0m\u001b[0;34m.\u001b[0m\u001b[0mupdate\u001b[0m\u001b[0;34m(\u001b[0m\u001b[0mdata\u001b[0m\u001b[0;34m)\u001b[0m\u001b[0;34m\u001b[0m\u001b[0;34m\u001b[0m\u001b[0m\n",
            "\u001b[0;32m/usr/local/lib/python3.10/dist-packages/matplotlib/category.py\u001b[0m in \u001b[0;36m__init__\u001b[0;34m(self, data)\u001b[0m\n\u001b[1;32m    179\u001b[0m         \u001b[0mself\u001b[0m\u001b[0;34m.\u001b[0m\u001b[0m_counter\u001b[0m \u001b[0;34m=\u001b[0m \u001b[0mitertools\u001b[0m\u001b[0;34m.\u001b[0m\u001b[0mcount\u001b[0m\u001b[0;34m(\u001b[0m\u001b[0;34m)\u001b[0m\u001b[0;34m\u001b[0m\u001b[0;34m\u001b[0m\u001b[0m\n\u001b[1;32m    180\u001b[0m         \u001b[0;32mif\u001b[0m \u001b[0mdata\u001b[0m \u001b[0;32mis\u001b[0m \u001b[0;32mnot\u001b[0m \u001b[0;32mNone\u001b[0m\u001b[0;34m:\u001b[0m\u001b[0;34m\u001b[0m\u001b[0;34m\u001b[0m\u001b[0m\n\u001b[0;32m--> 181\u001b[0;31m             \u001b[0mself\u001b[0m\u001b[0;34m.\u001b[0m\u001b[0mupdate\u001b[0m\u001b[0;34m(\u001b[0m\u001b[0mdata\u001b[0m\u001b[0;34m)\u001b[0m\u001b[0;34m\u001b[0m\u001b[0;34m\u001b[0m\u001b[0m\n\u001b[0m\u001b[1;32m    182\u001b[0m \u001b[0;34m\u001b[0m\u001b[0m\n\u001b[1;32m    183\u001b[0m     \u001b[0;34m@\u001b[0m\u001b[0mstaticmethod\u001b[0m\u001b[0;34m\u001b[0m\u001b[0;34m\u001b[0m\u001b[0m\n",
            "\u001b[0;32m/usr/local/lib/python3.10/dist-packages/matplotlib/category.py\u001b[0m in \u001b[0;36mupdate\u001b[0;34m(self, data)\u001b[0m\n\u001b[1;32m    214\u001b[0m         \u001b[0;32mfor\u001b[0m \u001b[0mval\u001b[0m \u001b[0;32min\u001b[0m \u001b[0mOrderedDict\u001b[0m\u001b[0;34m.\u001b[0m\u001b[0mfromkeys\u001b[0m\u001b[0;34m(\u001b[0m\u001b[0mdata\u001b[0m\u001b[0;34m)\u001b[0m\u001b[0;34m:\u001b[0m\u001b[0;34m\u001b[0m\u001b[0;34m\u001b[0m\u001b[0m\n\u001b[1;32m    215\u001b[0m             \u001b[0;31m# OrderedDict just iterates over unique values in data.\u001b[0m\u001b[0;34m\u001b[0m\u001b[0;34m\u001b[0m\u001b[0m\n\u001b[0;32m--> 216\u001b[0;31m             \u001b[0m_api\u001b[0m\u001b[0;34m.\u001b[0m\u001b[0mcheck_isinstance\u001b[0m\u001b[0;34m(\u001b[0m\u001b[0;34m(\u001b[0m\u001b[0mstr\u001b[0m\u001b[0;34m,\u001b[0m \u001b[0mbytes\u001b[0m\u001b[0;34m)\u001b[0m\u001b[0;34m,\u001b[0m \u001b[0mvalue\u001b[0m\u001b[0;34m=\u001b[0m\u001b[0mval\u001b[0m\u001b[0;34m)\u001b[0m\u001b[0;34m\u001b[0m\u001b[0;34m\u001b[0m\u001b[0m\n\u001b[0m\u001b[1;32m    217\u001b[0m             \u001b[0;32mif\u001b[0m \u001b[0mconvertible\u001b[0m\u001b[0;34m:\u001b[0m\u001b[0;34m\u001b[0m\u001b[0;34m\u001b[0m\u001b[0m\n\u001b[1;32m    218\u001b[0m                 \u001b[0;31m# this will only be called so long as convertible is True.\u001b[0m\u001b[0;34m\u001b[0m\u001b[0;34m\u001b[0m\u001b[0m\n",
            "\u001b[0;32m/usr/local/lib/python3.10/dist-packages/matplotlib/_api/__init__.py\u001b[0m in \u001b[0;36mcheck_isinstance\u001b[0;34m(_types, **kwargs)\u001b[0m\n\u001b[1;32m     91\u001b[0m                 \u001b[0mnames\u001b[0m\u001b[0;34m.\u001b[0m\u001b[0mremove\u001b[0m\u001b[0;34m(\u001b[0m\u001b[0;34m\"None\"\u001b[0m\u001b[0;34m)\u001b[0m\u001b[0;34m\u001b[0m\u001b[0;34m\u001b[0m\u001b[0m\n\u001b[1;32m     92\u001b[0m                 \u001b[0mnames\u001b[0m\u001b[0;34m.\u001b[0m\u001b[0mappend\u001b[0m\u001b[0;34m(\u001b[0m\u001b[0;34m\"None\"\u001b[0m\u001b[0;34m)\u001b[0m\u001b[0;34m\u001b[0m\u001b[0;34m\u001b[0m\u001b[0m\n\u001b[0;32m---> 93\u001b[0;31m             raise TypeError(\n\u001b[0m\u001b[1;32m     94\u001b[0m                 \"{!r} must be an instance of {}, not a {}\".format(\n\u001b[1;32m     95\u001b[0m                     \u001b[0mk\u001b[0m\u001b[0;34m,\u001b[0m\u001b[0;34m\u001b[0m\u001b[0;34m\u001b[0m\u001b[0m\n",
            "\u001b[0;31mTypeError\u001b[0m: 'value' must be an instance of str or bytes, not a float"
          ]
        },
        {
          "output_type": "display_data",
          "data": {
            "text/plain": [
              "<Figure size 640x480 with 1 Axes>"
            ],
            "image/png": "[encoded data removed]"
          },
          "metadata": {}
        }
      ]
    }
  ]
}